{
 "cells": [
  {
   "cell_type": "code",
   "execution_count": 257,
   "metadata": {},
   "outputs": [],
   "source": [
    "# importacion de datasets\n",
    "\n",
    "import pandas as pd\n",
    "\n",
    "train = pd.read_csv('../files/input/train_data.csv.zip', compression='zip')\n",
    "test = pd.read_csv('../files/input/test_data.csv.zip', compression='zip')"
   ]
  },
  {
   "cell_type": "code",
   "execution_count": 258,
   "metadata": {},
   "outputs": [],
   "source": [
    "# Paso 1: Limpieza de datos\n",
    "\n",
    "def preprocess_data(df):\n",
    "    df = df.rename(columns={'default payment next month': 'default'})\n",
    "    df = df.drop('ID', axis=1)\n",
    "    df = df.dropna()\n",
    "    df = df[(df['EDUCATION'] != 0 ) & (df['MARRIAGE'] != 0)]\n",
    "    df['EDUCATION'] = df['EDUCATION'].apply(lambda x : 4 if x > 4 else x)\n",
    "\n",
    "    return df\n",
    "\n",
    "train = preprocess_data(train)\n",
    "test = preprocess_data(test)"
   ]
  },
  {
   "cell_type": "code",
   "execution_count": 259,
   "metadata": {},
   "outputs": [],
   "source": [
    "# Paso 2: Dividir el dataset en conjunto de entrenamiento y prueba\n",
    "\n",
    "x_train = train.drop('default', axis=1)\n",
    "y_train = train['default']\n",
    "x_test = test.drop('default', axis=1)\n",
    "y_test = test['default']"
   ]
  },
  {
   "cell_type": "code",
   "execution_count": 260,
   "metadata": {},
   "outputs": [
    {
     "name": "stdout",
     "output_type": "stream",
     "text": [
      "Train score: 0.8147759270748819\n",
      "Test score: 0.8303820024501615\n"
     ]
    }
   ],
   "source": [
    "# Paso 3: Crear pipeline\n",
    "\n",
    "from sklearn.pipeline import Pipeline\n",
    "from sklearn.compose import ColumnTransformer\n",
    "from sklearn.preprocessing import MinMaxScaler, OneHotEncoder\n",
    "from sklearn.linear_model import LogisticRegression\n",
    "from sklearn.feature_selection import SelectKBest, f_classif\n",
    "\n",
    "categorical_features = ['SEX', 'EDUCATION', 'MARRIAGE']\n",
    "continuous_features = train.columns.difference(categorical_features + ['default'])\n",
    "\n",
    "transformer = ColumnTransformer([\n",
    "    ('encoder', OneHotEncoder(handle_unknown='ignore'), categorical_features),\n",
    "    ('scaler', MinMaxScaler(), continuous_features)\n",
    "], remainder='passthrough')\n",
    "\n",
    "pipeline = Pipeline(steps=[\n",
    "    ('preprocessor', transformer),\n",
    "    ('feature_selector', SelectKBest(score_func=f_classif, k=1)),\n",
    "    ('classifier', LogisticRegression(max_iter=1000))\n",
    "])\n",
    "\n",
    "pipeline.fit(x_train, y_train)\n",
    "print('Train score:', pipeline.score(x_train, y_train))\n",
    "print('Test score:', pipeline.score(x_test, y_test))"
   ]
  },
  {
   "cell_type": "code",
   "execution_count": 261,
   "metadata": {},
   "outputs": [
    {
     "name": "stdout",
     "output_type": "stream",
     "text": [
      "Fitting 10 folds for each of 1 candidates, totalling 10 fits\n",
      "Best score: 0.6392688664250823\n",
      "Best params: {'classifier__C': 1, 'classifier__penalty': 'l2', 'classifier__solver': 'lbfgs', 'feature_selector__k': 1}\n"
     ]
    }
   ],
   "source": [
    "# Paso 4: Optimizar hiperparámetros\n",
    "\n",
    "from sklearn.model_selection import GridSearchCV\n",
    "\n",
    "param_grid = {\n",
    "        'classifier__C': [1],\n",
    "        'classifier__solver': ['lbfgs'],\n",
    "        'classifier__penalty': ['l2'],\n",
    "        'feature_selector__k': [1],\n",
    "    }\n",
    "\n",
    "grid_search = GridSearchCV(pipeline, param_grid, cv=10, n_jobs=-1, verbose=1, scoring='balanced_accuracy')\n",
    "grid_search.fit(x_train, y_train)\n",
    "print('Best score:', grid_search.best_score_)\n",
    "print('Best params:', grid_search.best_params_)"
   ]
  },
  {
   "cell_type": "code",
   "execution_count": 262,
   "metadata": {},
   "outputs": [],
   "source": [
    "# Paso 5: Guardar el modelo\n",
    "\n",
    "import os\n",
    "import gzip\n",
    "import pickle\n",
    "\n",
    "os.makedirs('../files/models', exist_ok=True)\n",
    "with gzip.open('../files/models/model.pkl.gz', 'wb') as f:\n",
    "    pickle.dump(grid_search, f)"
   ]
  },
  {
   "cell_type": "code",
   "execution_count": 263,
   "metadata": {},
   "outputs": [],
   "source": [
    "# Paso 6 y 7: Calculo de metricas y matriz de confusion\n",
    "\n",
    "def metrics_report(y_test, y_train):\n",
    "    from sklearn.metrics import confusion_matrix, balanced_accuracy_score, precision_score, recall_score, f1_score\n",
    "\n",
    "    y_test_predict = grid_search.predict(x_test)\n",
    "    y_train_predict = grid_search.predict(x_train)\n",
    "\n",
    "    cm_train = confusion_matrix(y_train, y_train_predict)\n",
    "    cm_test = confusion_matrix(y_test, y_test_predict)\n",
    "\n",
    "    metrics = [\n",
    "        {'type': 'metrics', 'dataset': 'train', 'precision': precision_score(y_train, y_train_predict), 'balanced_accuracy': balanced_accuracy_score(y_train, y_train_predict), 'recall': recall_score(y_train, y_train_predict), 'f1_score': f1_score(y_train, y_train_predict)},\n",
    "        {'type': 'metrics', 'dataset': 'test', 'precision': precision_score(y_test, y_test_predict), 'balanced_accuracy': balanced_accuracy_score(y_test, y_test_predict), 'recall': recall_score(y_test, y_test_predict), 'f1_score': f1_score(y_test, y_test_predict)},\n",
    "        {'type': 'cm_matrix', 'dataset': 'train', 'true_0': {\"predicted_0\": int(cm_train[0][0]), \"predicted_1\": int(cm_train[0][1])}, 'true_1': {\"predicted_0\": int(cm_train[1][0]), \"predicted_1\": int(cm_train[1][1])}},\n",
    "        {'type': 'cm_matrix', 'dataset': 'test', 'true_0': {\"predicted_0\": int(cm_test[0][0]), \"predicted_1\": int(cm_test[0][1])}, 'true_1': {\"predicted_0\": int(cm_test[1][0]), \"predicted_1\": int(cm_test[1][1])}}\n",
    "    ]\n",
    "\n",
    "    return metrics\n",
    "\n",
    "results = metrics_report(y_test, y_train)\n"
   ]
  },
  {
   "cell_type": "code",
   "execution_count": 264,
   "metadata": {},
   "outputs": [],
   "source": [
    "# Paso 8: Guardar metricas\n",
    "\n",
    "import json\n",
    "os.makedirs('../files/output', exist_ok=True)\n",
    "with open('../files/output/metrics.json', 'w') as f:\n",
    "    for metric in results:\n",
    "        f.write(json.dumps(metric) + '\\n')"
   ]
  }
 ],
 "metadata": {
  "kernelspec": {
   "display_name": ".venv",
   "language": "python",
   "name": "python3"
  },
  "language_info": {
   "codemirror_mode": {
    "name": "ipython",
    "version": 3
   },
   "file_extension": ".py",
   "mimetype": "text/x-python",
   "name": "python",
   "nbconvert_exporter": "python",
   "pygments_lexer": "ipython3",
   "version": "3.11.9"
  }
 },
 "nbformat": 4,
 "nbformat_minor": 2
}
